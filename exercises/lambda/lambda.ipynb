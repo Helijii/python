{
 "cells": [
  {
   "cell_type": "markdown",
   "metadata": {},
   "source": [
    "# examples of lambda functions "
   ]
  },
  {
   "cell_type": "markdown",
   "metadata": {},
   "source": [
    "Write a python function to sort a list of dictionaries using lambda. Sort the dictionaries by ages and then by names."
   ]
  },
  {
   "cell_type": "code",
   "execution_count": 11,
   "metadata": {
    "vscode": {
     "languageId": "shellscript"
    }
   },
   "outputs": [
    {
     "name": "stdout",
     "output_type": "stream",
     "text": [
      "[{'name': 'Alice', 'age': 25}, {'name': 'Charlie', 'age': 25}, {'name': 'Bob', 'age': 30}, {'name': 'David', 'age': 32}]\n"
     ]
    }
   ],
   "source": [
    "people = [\n",
    "    {'name': 'Alice', 'age': 25},\n",
    "    {'name': 'Bob', 'age': 30},\n",
    "    {'name': 'Charlie', 'age': 25},\n",
    "    {'name': 'David', 'age': 32},\n",
    "]\n",
    "\n",
    "sorted_people = sorted(people, key=lambda x: (x['age'], x['name']))\n",
    "print(sorted_people)"
   ]
  },
  {
   "cell_type": "markdown",
   "metadata": {},
   "source": [
    "Sort by age (ascending) and then by score (descending)."
   ]
  },
  {
   "cell_type": "code",
   "execution_count": 12,
   "metadata": {
    "vscode": {
     "languageId": "shellscript"
    }
   },
   "outputs": [
    {
     "name": "stdout",
     "output_type": "stream",
     "text": [
      "[{'name': 'Charlie', 'age': 25, 'score': 95}, {'name': 'Alice', 'age': 25, 'score': 90}, {'name': 'Bob', 'age': 30, 'score': 85}, {'name': 'David', 'age': 30, 'score': 80}]\n"
     ]
    }
   ],
   "source": [
    "data = [\n",
    "    {'name': 'Alice', 'age': 25, 'score': 90},\n",
    "    {'name': 'Bob', 'age': 30, 'score': 85},\n",
    "    {'name': 'Charlie', 'age': 25, 'score': 95},\n",
    "    {'name': 'David', 'age': 30, 'score': 80},\n",
    "]\n",
    "\n",
    "sorted_data = sorted(data, key=lambda x: (x['age'], -x['score']))\n",
    "print(sorted_data)"
   ]
  },
  {
   "cell_type": "markdown",
   "metadata": {},
   "source": [
    "Use \"map()\" to square even numbers and cube odd numbers"
   ]
  },
  {
   "cell_type": "code",
   "execution_count": 13,
   "metadata": {
    "vscode": {
     "languageId": "shellscript"
    }
   },
   "outputs": [
    {
     "name": "stdout",
     "output_type": "stream",
     "text": [
      "[1, 4, 27, 16, 125]\n"
     ]
    }
   ],
   "source": [
    "numbers = [1, 2, 3, 4, 5]\n",
    "\n",
    "transformed_numbers = list(map(lambda x: x**2 if x % 2 == 0 else x**3, numbers))\n",
    "print(transformed_numbers)"
   ]
  },
  {
   "cell_type": "code",
   "execution_count": null,
   "metadata": {
    "vscode": {
     "languageId": "shellscript"
    }
   },
   "outputs": [],
   "source": []
  }
 ],
 "metadata": {
  "kernelspec": {
   "display_name": "Python 3",
   "language": "python",
   "name": "python3"
  },
  "language_info": {
   "codemirror_mode": {
    "name": "ipython",
    "version": 3
   },
   "file_extension": ".py",
   "mimetype": "text/x-python",
   "name": "python",
   "nbconvert_exporter": "python",
   "pygments_lexer": "ipython3",
   "version": "3.11.5"
  }
 },
 "nbformat": 4,
 "nbformat_minor": 2
}
